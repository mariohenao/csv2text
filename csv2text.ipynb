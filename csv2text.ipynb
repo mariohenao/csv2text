{
 "cells": [
  {
   "cell_type": "markdown",
   "metadata": {},
   "source": [
    "# Convertir .csv a .txt\n",
    "\n",
    "Escriba en la casilla de abajo el nombre del archivo .csv que se quiere transformar, entre comillas (ejemplo: 'plantas_21-01-25.csv')."
   ]
  },
  {
   "cell_type": "code",
   "execution_count": 5,
   "metadata": {},
   "outputs": [],
   "source": [
    "data_file_path = ''"
   ]
  },
  {
   "cell_type": "markdown",
   "metadata": {},
   "source": [
    "Seleccione la opción _Run All_ en la pestaña _Cell_."
   ]
  },
  {
   "cell_type": "code",
   "execution_count": 6,
   "metadata": {},
   "outputs": [],
   "source": [
    "import pandas as pd"
   ]
  },
  {
   "cell_type": "code",
   "execution_count": 8,
   "metadata": {},
   "outputs": [
    {
     "name": "stdout",
     "output_type": "stream",
     "text": [
      "Leyendo tabla plantas_21-01-27.csv...\n",
      "Escribiendo en texto_plantas_21-01-27...\n",
      "\n",
      "Archivo guardado en texto_plantas_21-01-27.\n"
     ]
    }
   ],
   "source": [
    "print(f'Leyendo tabla {data_file_path}...')\n",
    "data_plantas = pd.read_csv(data_file_path)\n",
    "data_plantas = data_plantas.fillna('No aplica')\n",
    "\n",
    "out_file_path = 'texto_'+data_file_path.split('.')[0]\n",
    "\n",
    "f = open(out_file_path, \"w\")\n",
    "print(f'Escribiendo en {out_file_path}...')\n",
    "for _, row in data_plantas.iterrows():\n",
    "    for col in data_plantas.columns:\n",
    "        f.write(col+'\\n')\n",
    "        f.write(row[col]+'\\n\\n')\n",
    "    f.write(40*'-'+'\\n\\n')\n",
    "\n",
    "f.close()\n",
    "\n",
    "print(f'\\nArchivo guardado en {out_file_path}.')"
   ]
  }
 ],
 "metadata": {
  "kernelspec": {
   "display_name": "ds",
   "language": "python",
   "name": "ds_env"
  },
  "language_info": {
   "codemirror_mode": {
    "name": "ipython",
    "version": 3
   },
   "file_extension": ".py",
   "mimetype": "text/x-python",
   "name": "python",
   "nbconvert_exporter": "python",
   "pygments_lexer": "ipython3",
   "version": "3.6.9"
  }
 },
 "nbformat": 4,
 "nbformat_minor": 4
}
